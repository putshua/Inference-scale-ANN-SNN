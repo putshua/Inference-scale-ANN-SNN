{
 "cells": [
  {
   "cell_type": "code",
   "execution_count": null,
   "metadata": {},
   "outputs": [],
   "source": [
    "import torch\n",
    "import sys\n",
    "import argparse\n",
    "from torchvision.models import ResNet34_Weights, ResNet18_Weights, ResNet50_Weights, VGG16_BN_Weights\n",
    "sys.path.append(\"../\")\n",
    "from dataset import imagenet_dataloader\n",
    "from utils import *\n",
    "from ResNet import resnet34, resnet18, resnet50\n",
    "from torchvision.models import mobilenet_v2, regnet_x_8gf, regnet_x_3_2gf, vgg16_bn\n",
    "\n",
    "import os\n",
    "from copy import deepcopy\n",
    "from torchattacks import FGSM"
   ]
  },
  {
   "cell_type": "code",
   "execution_count": null,
   "metadata": {},
   "outputs": [],
   "source": [
    "batch_size = 100\n",
    "seed = 42\n",
    "model_name = \"resnet18\"\n",
    "iter = 10\n",
    "timestep = 512\n",
    "save_path = \"./tmp\"\n",
    "load_path = None\n",
    "os.environ['CUDA_VISIBLE_DEVICES'] = \"0\""
   ]
  },
  {
   "cell_type": "code",
   "execution_count": null,
   "metadata": {},
   "outputs": [],
   "source": [
    "seed_all(seed)\n",
    "identifier = \"imagenet\"\n",
    "if model_name == \"resnet34\":\n",
    "    identifier += \"_resnet34\"\n",
    "    model = resnet34()\n",
    "    weight = ResNet34_Weights.IMAGENET1K_V1\n",
    "    model.load_state_dict(weight.get_state_dict(progress=True))\n",
    "elif model_name == \"resnet18\":\n",
    "    identifier += \"_resnet18\"\n",
    "    model = resnet18()\n",
    "    weight = ResNet18_Weights.IMAGENET1K_V1\n",
    "    model.load_state_dict(weight.get_state_dict(progress=True))\n",
    "elif model_name == \"resnet50\":\n",
    "    identifier += \"_resnet50\"\n",
    "    model = resnet50()\n",
    "    weight = ResNet50_Weights.IMAGENET1K_V2\n",
    "    model.load_state_dict(weight.get_state_dict(progress=True))\n",
    "elif model_name == \"vgg16\":\n",
    "    identifier += \"_vgg16\"\n",
    "    model = vgg16_bn()\n",
    "    weight = VGG16_BN_Weights.IMAGENET1K_V1\n",
    "    model.load_state_dict(weight.get_state_dict(progress=True))\n",
    "elif model_name == \"mobilenet\":\n",
    "    model = mobilenet_v2(weights='IMAGENET1K_V1')\n",
    "    identifier += \"_mobilenet\"\n",
    "else:\n",
    "    raise AssertionError(\"No such model!\")\n",
    "\n",
    "identifier += \"_iter{}\".format(iter)\n",
    "train_loader, val_loader = imagenet_dataloader(\"/home/data10T/data/public/ImageNet/\", batchsize=batch_size)"
   ]
  },
  {
   "cell_type": "code",
   "execution_count": null,
   "metadata": {},
   "outputs": [],
   "source": [
    "model, cnt = convert_ann_to_snn(model)\n",
    "\n",
    "if load_path is not None:\n",
    "    sd = torch.load(\"./results/\"+ load_path +\".pth\")\n",
    "    flag = 0\n",
    "    for key in sd.keys():\n",
    "        if \"running_mean\" in key:\n",
    "            flag = 1\n",
    "            break\n",
    "    if flag == 0:\n",
    "        search_fold_and_remove_bn(model)\n",
    "    model.load_state_dict(sd, strict=False)\n",
    "else:\n",
    "    weight_scaling_iter(train_loader, model, \"cuda\", iter)\n",
    "    # torch.save(model.state_dict(), './results/%s.pth'%(identifier))\n",
    "\n",
    "# remove bn\n",
    "search_fold_and_remove_bn(model)\n",
    "acc = snn_inference(val_loader, model, \"cuda\", timestep)\n",
    "# print(acc[3,7], acc[7,15], acc[15,31])\n",
    "np.save('./results/%s_t%d_mat.npy'%(identifier, timestep), acc)"
   ]
  },
  {
   "cell_type": "code",
   "execution_count": null,
   "metadata": {},
   "outputs": [],
   "source": [
    "acc"
   ]
  },
  {
   "cell_type": "code",
   "execution_count": null,
   "metadata": {},
   "outputs": [],
   "source": [
    "# calculate delay time\n",
    "delay_t = cal_delay_time(train_loader, model, \"cuda\")\n",
    "print(delay_t)\n",
    "acc = np.load('./results/%s_t%d.npy'%(identifier, 511))\n",
    "# print(acc[delay_t, [7, 15, 31, 63, 127, 255, 511]])\n",
    "xx = np.array([7, 15, 31, 63, 127, 255, 510]) + 1\n",
    "for i in xx:\n",
    "    if i<delay_t+4:\n",
    "        print(acc[max(i-4, 0), i])\n",
    "    else:\n",
    "        print(acc[delay_t, i])"
   ]
  }
 ],
 "metadata": {
  "kernelspec": {
   "display_name": "base",
   "language": "python",
   "name": "python3"
  },
  "language_info": {
   "codemirror_mode": {
    "name": "ipython",
    "version": 3
   },
   "file_extension": ".py",
   "mimetype": "text/x-python",
   "name": "python",
   "nbconvert_exporter": "python",
   "pygments_lexer": "ipython3",
   "version": "3.10.14"
  }
 },
 "nbformat": 4,
 "nbformat_minor": 2
}
